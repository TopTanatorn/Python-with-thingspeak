{
 "cells": [
  {
   "cell_type": "code",
   "execution_count": 1,
   "id": "c4a0128a",
   "metadata": {},
   "outputs": [],
   "source": [
    "import requests\n",
    "import time\n",
    "import json\n",
    "import numpy as np\n",
    "import blockchain\n",
    "import BusClass"
   ]
  },
  {
   "cell_type": "code",
   "execution_count": 2,
   "id": "ec0bd0e5",
   "metadata": {},
   "outputs": [],
   "source": [
    "url = \"https://api.thingspeak.com/channels/1704499/feeds.json?api_key=xxxx&results=2\"\n",
    "Rkey = \"xxxx\"\n",
    "latStation = [7.865661,7.881308,7.893300,7.887864,7.890755,7.882510,7.885414] # lat of stantion point\n",
    "lonStation = [98.397750,98.364982,98.368747,98.371470,98.390563,98.404646,98.430988] # lon of stantion point\n",
    "enitalB1 = 0\n",
    "enitalB2 = 0"
   ]
  },
  {
   "cell_type": "code",
   "execution_count": 3,
   "id": "f7f6c8a2",
   "metadata": {},
   "outputs": [],
   "source": [
    "def getBusStopPoint() :\n",
    "\n",
    "    resp = requests.get(url)\n",
    "    data_disc = json.loads(resp.text)\n",
    "\n",
    "    stationId = data_disc[\"feeds\"][1][\"field4\"]\n",
    "    point = []\n",
    "\n",
    "    if stationId == \"1.0\" :\n",
    "        point = [latStation[0],lonStation[0]]\n",
    "    \n",
    "    elif stationId == \"2.0\" :\n",
    "        point = [latStation[1],lonStation[1]]\n",
    "    \n",
    "    elif stationId == \"3.0\" :\n",
    "        point = [latStation[2],lonStation[2]]\n",
    "    \n",
    "    elif stationId == \"4.0\" :\n",
    "        point = [latStation[3],lonStation[3]]\n",
    "    \n",
    "    elif stationId == \"5.0\" :\n",
    "        point = [latStation[4],lonStation[4]]\n",
    "    \n",
    "    elif stationId == \"6.0\" :\n",
    "        point = [latStation[5],lonStation[5]]\n",
    "    \n",
    "    elif stationId == \"7.0\" :\n",
    "        point = [latStation[6],lonStation[6]]\n",
    "        \n",
    "    else:\n",
    "        point = [\"X\",\"X\"]\n",
    "        \n",
    "    return point\n"
   ]
  },
  {
   "cell_type": "code",
   "execution_count": 4,
   "id": "d0fe1a88",
   "metadata": {},
   "outputs": [],
   "source": [
    "def addData(data):\n",
    "    baseUrlWr = \"https://api.thingspeak.com/update?api_key=\"\n",
    "    urlWr = baseUrlWr + Rkey\n",
    "    dataAdd = \"\"\n",
    "    for i in range(len(data)):\n",
    "        dataAdd = dataAdd + \"&field\"+ str(i+1) +\"=\" + str(data[i])\n",
    "        \n",
    "    urlWr = baseUrlWr + Rkey + dataAdd\n",
    "\n",
    "    requests.get(urlWr)\n",
    "    "
   ]
  },
  {
   "cell_type": "code",
   "execution_count": 5,
   "id": "49258d80",
   "metadata": {},
   "outputs": [],
   "source": [
    "bc = blockchain.Blockchain()# create first blockchain\n",
    "\n",
    "distanceFormGoal = 0\n",
    "speed = 0\n",
    "estimateTimeToBusStop = 0"
   ]
  },
  {
   "cell_type": "code",
   "execution_count": 6,
   "id": "670812e0",
   "metadata": {},
   "outputs": [
    {
     "name": "stderr",
     "output_type": "stream",
     "text": [
      "C:\\Users\\ziver\\AppData\\Local\\Temp\\ipykernel_18676\\4023968071.py:42: RuntimeWarning: divide by zero encountered in double_scalars\n",
      "  estimateTimeToBusStop = (distanceFormGoal/speed) * 60\n"
     ]
    },
    {
     "name": "stdout",
     "output_type": "stream",
     "text": [
      "{'index': 2, 'timestamp': '2022-10-29 22:27:42.685096', 'data': 'Bus ID :2.0,Station ID :7.0,Distance to bus stop :7.356502336531929,Speed :0.0,Estimate time to bus stop :inf', 'proof': 8111, 'previous_hash': '48fc3b4704e12f94d6ac3341150fd76c62b7651910092084c2f84e6a87739253'}\n",
      "{'index': 3, 'timestamp': '2022-10-29 22:28:11.182606', 'data': 'Bus ID :2.0,Station ID :7.0,Distance to bus stop :7.356502336531929,Speed :0.0,Estimate time to bus stop :inf', 'proof': 2244, 'previous_hash': '5c0e4a5d182aed8047ddc8b6f102697615cc5e3f5a450ca9e24236233ad06185'}\n",
      "{'index': 4, 'timestamp': '2022-10-29 22:28:39.790233', 'data': 'Bus ID :2.0,Station ID :7.0,Distance to bus stop :7.356502336531929,Speed :0.0,Estimate time to bus stop :inf', 'proof': 579, 'previous_hash': '62bf98bd05975a2b14f965cb73b630fe9708c660187ae9e867945bee4f2289e4'}\n",
      "{'index': 5, 'timestamp': '2022-10-29 22:29:08.326593', 'data': 'Bus ID :1.0,Station ID :1.0,Distance to bus stop :8.5515314081372,Speed :0.0,Estimate time to bus stop :inf', 'proof': 3293, 'previous_hash': '3433e75d08e19a85f100e3d51260f6f8494c95255342e9f8504ddf956bf7e184'}\n",
      "{'index': 6, 'timestamp': '2022-10-29 22:29:36.892562', 'data': 'Bus ID :1.0,Station ID :1.0,Distance to bus stop :8.5515314081372,Speed :0.0,Estimate time to bus stop :inf', 'proof': 6231, 'previous_hash': 'b52eddd58988dcff1c6d4559c4baf236360ba4d8c08477fe9f9f4d911c4a5649'}\n",
      "{'index': 7, 'timestamp': '2022-10-29 22:30:05.441910', 'data': 'Bus ID :2.0,Station ID :5.0,Distance to bus stop :5.808994249403251,Speed :0.03237613693389536,Estimate time to bus stop :10765.325575309775', 'proof': 8776, 'previous_hash': 'ee0391774272d82b2e6cfe9dd5530fb9cbf69f2633bd3750890725cba240ec71'}\n",
      "{'index': 8, 'timestamp': '2022-10-29 22:30:34.100204', 'data': 'Bus ID :2.0,Station ID :5.0,Distance to bus stop :5.808994249403251,Speed :0.0,Estimate time to bus stop :inf', 'proof': 608, 'previous_hash': 'd23eeb3bc8eaf9db4aed0fb87c17a158111bddce763c01eb14004386fee0c82a'}\n",
      "{'index': 9, 'timestamp': '2022-10-29 22:31:02.588756', 'data': 'Bus ID :2.0,Station ID :5.0,Distance to bus stop :5.808994249403251,Speed :0.0,Estimate time to bus stop :inf', 'proof': 467, 'previous_hash': '667b56896f0e8b81e12b111108cd755c79f9f9321b1eb0990c49e1a809700d5b'}\n",
      "{'index': 10, 'timestamp': '2022-10-29 22:31:31.063623', 'data': 'Bus ID :2.0,Station ID :5.0,Distance to bus stop :5.808994249403251,Speed :0.0,Estimate time to bus stop :inf', 'proof': 4589, 'previous_hash': '0979c389b5ba0c6aa6668ddfa5c0063b5839c4f29ebcdf984f8778c6596f7984'}\n",
      "{'index': 11, 'timestamp': '2022-10-29 22:31:59.620321', 'data': 'Bus ID :2.0,Station ID :5.0,Distance to bus stop :5.808994249403251,Speed :0.0,Estimate time to bus stop :inf', 'proof': 1064, 'previous_hash': '566c48d90143d116f289a49e9ae21016ef5bedf00b97264bb13427b3902b1e55'}\n",
      "{'index': 12, 'timestamp': '2022-10-29 22:32:28.091868', 'data': 'Bus ID :2.0,Station ID :5.0,Distance to bus stop :5.808994249403251,Speed :0.0,Estimate time to bus stop :inf', 'proof': 249, 'previous_hash': '38cf54c7136b6b959bbc0b06524b6e5749860d62c9f6a0ea021e0e8efb97f30e'}\n",
      "{'index': 13, 'timestamp': '2022-10-29 22:32:56.707118', 'data': 'Bus ID :2.0,Station ID :5.0,Distance to bus stop :5.808994249403251,Speed :0.0,Estimate time to bus stop :inf', 'proof': 560, 'previous_hash': '2cdf441863143d96bae0833e182ae4c3d66b5466fa8cfc8a2fde937b1ee2444a'}\n"
     ]
    },
    {
     "ename": "KeyboardInterrupt",
     "evalue": "",
     "output_type": "error",
     "traceback": [
      "\u001b[1;31m---------------------------------------------------------------------------\u001b[0m",
      "\u001b[1;31mKeyboardInterrupt\u001b[0m                         Traceback (most recent call last)",
      "Cell \u001b[1;32mIn [6], line 70\u001b[0m\n\u001b[0;32m     67\u001b[0m addData(dataForAdd)\n\u001b[0;32m     69\u001b[0m \u001b[38;5;28mprint\u001b[39m(bc\u001b[38;5;241m.\u001b[39mchain[\u001b[38;5;28mlen\u001b[39m(bc\u001b[38;5;241m.\u001b[39mchain)\u001b[38;5;241m-\u001b[39m\u001b[38;5;241m1\u001b[39m])\u001b[38;5;66;03m# print the current block\u001b[39;00m\n\u001b[1;32m---> 70\u001b[0m \u001b[43mtime\u001b[49m\u001b[38;5;241;43m.\u001b[39;49m\u001b[43msleep\u001b[49m\u001b[43m(\u001b[49m\u001b[38;5;241;43m25\u001b[39;49m\u001b[43m)\u001b[49m\n",
      "\u001b[1;31mKeyboardInterrupt\u001b[0m: "
     ]
    }
   ],
   "source": [
    "while (bc.is_chain_valid()):# check validation of blockchain\n",
    "    resp = requests.get(url)\n",
    "    data_disc = json.loads(resp.text)\n",
    "    busID = data_disc[\"feeds\"][1][\"field5\"]\n",
    "    stationID = data_disc[\"feeds\"][1][\"field4\"]\n",
    "    busStopPoint = getBusStopPoint()\n",
    "    \n",
    "    if(busStopPoint == [\"X\",\"X\"]):\n",
    "        print(\"Station ID is invalid (1 - 7)\")\n",
    "        break\n",
    "        \n",
    "    if(not ((busID == '1.0')|(busID == '2.0'))):\n",
    "        print(\"Bus ID is invalid (1 - 2)\")\n",
    "        break\n",
    "    \n",
    "    if((busID == '1.0') & (enitalB1 == 0)):\n",
    "\n",
    "        busId1 = BusClass.Bus(float(data_disc[\"feeds\"][1][\"field1\"]),float(data_disc[\"feeds\"][1][\"field2\"])) \n",
    "        distanceFormGoal = busId1.distanceFormGoal(busStopPoint[0],busStopPoint[1])\n",
    "        speed = busId1.readSpeed()\n",
    "        enitalB1 = 1;\n",
    "        \n",
    "    if((busID == '2.0') & (enitalB2 == 0)):\n",
    "\n",
    "        busId2 = BusClass.Bus(float(data_disc[\"feeds\"][1][\"field1\"]),float(data_disc[\"feeds\"][1][\"field2\"])) \n",
    "        distanceFormGoal = busId2.distanceFormGoal(busStopPoint[0],busStopPoint[1])\n",
    "        speed = busId2.readSpeed()\n",
    "        enitalB2 = 1;\n",
    "        \n",
    "    if((busID == '1.0') & (enitalB1 > 1)):\n",
    "    \n",
    "        busId1.setBusLocation(float(data_disc[\"feeds\"][1][\"field1\"]),float(data_disc[\"feeds\"][1][\"field2\"]))\n",
    "        distanceFormGoal = busId1.distanceFormGoal(busStopPoint[0],busStopPoint[1])\n",
    "        speed = busId1.readSpeed()\n",
    "        \n",
    "    if((busID == '2.0') & (enitalB2 > 1)):\n",
    "\n",
    "        busId2.setBusLocation(float(data_disc[\"feeds\"][1][\"field1\"]),float(data_disc[\"feeds\"][1][\"field2\"]))\n",
    "        distanceFormGoal = busId2.distanceFormGoal(busStopPoint[0],busStopPoint[1])\n",
    "        speed = busId2.readSpeed()\n",
    "        \n",
    "    estimateTimeToBusStop = (distanceFormGoal/speed) * 60\n",
    "   \n",
    "    if((busID == '1.0') & (enitalB1 == 1)):\n",
    "        \n",
    "        enitalB1 = 2\n",
    "        \n",
    "    if((busID == '2.0') & (enitalB2 == 1)):\n",
    "        \n",
    "        enitalB2 = 2\n",
    "        \n",
    "    bc.mine_block(\"Bus ID :\" + str(busID) + \n",
    "                  \",Station ID :\" + str(stationID) + \n",
    "                  \",Distance to bus stop :\" + str(distanceFormGoal) +\n",
    "                  \",Speed :\" + str(speed) + \n",
    "                  \",Estimate time to bus stop :\"+ str(estimateTimeToBusStop)\n",
    "                 )\n",
    "    dataForAdd = [bc.chain[len(bc.chain)-1][\"index\"],\n",
    "                 bc.is_chain_valid(),\n",
    "                 busID,\n",
    "                 stationID,\n",
    "                 distanceFormGoal,\n",
    "                 speed,\n",
    "                 estimateTimeToBusStop,\n",
    "                 bc.chain[len(bc.chain) - 1][\"previous_hash\"]]\n",
    "    \n",
    "    addData(dataForAdd)\n",
    "                  \n",
    "    print(bc.chain[len(bc.chain)-1])# print the current block\n",
    "    time.sleep(25)"
   ]
  }
 ],
 "metadata": {
  "kernelspec": {
   "display_name": "Python 3 (ipykernel)",
   "language": "python",
   "name": "python3"
  },
  "language_info": {
   "codemirror_mode": {
    "name": "ipython",
    "version": 3
   },
   "file_extension": ".py",
   "mimetype": "text/x-python",
   "name": "python",
   "nbconvert_exporter": "python",
   "pygments_lexer": "ipython3",
   "version": "3.10.2"
  }
 },
 "nbformat": 4,
 "nbformat_minor": 5
}

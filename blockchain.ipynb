{
 "cells": [
  {
   "cell_type": "code",
   "execution_count": 1,
   "id": "3507a5f5",
   "metadata": {},
   "outputs": [],
   "source": [
    "import blockchain"
   ]
  },
  {
   "cell_type": "code",
   "execution_count": 2,
   "id": "f08eb77f",
   "metadata": {},
   "outputs": [
    {
     "data": {
      "text/plain": [
       "{'index': 2,\n",
       " 'timestamp': '2022-09-26 23:09:42.901318',\n",
       " 'data': 'Test',\n",
       " 'proof': 37675,\n",
       " 'previous_hash': '57b8ecd2fb1e2a91b3a691c8f66e87d3af37713dc5fa1ba590e71860f03c3a42'}"
      ]
     },
     "execution_count": 2,
     "metadata": {},
     "output_type": "execute_result"
    }
   ],
   "source": [
    "bc = blockchain.Blockchain()\n",
    "bc.mine_block(\"Test\")"
   ]
  },
  {
   "cell_type": "code",
   "execution_count": 3,
   "id": "9d3f6226",
   "metadata": {},
   "outputs": [
    {
     "data": {
      "text/plain": [
       "[{'index': 1,\n",
       "  'timestamp': '2022-09-26 23:09:42.807574',\n",
       "  'data': 'genesis block',\n",
       "  'proof': 1,\n",
       "  'previous_hash': '0'},\n",
       " {'index': 2,\n",
       "  'timestamp': '2022-09-26 23:09:42.901318',\n",
       "  'data': 'Test',\n",
       "  'proof': 37675,\n",
       "  'previous_hash': '57b8ecd2fb1e2a91b3a691c8f66e87d3af37713dc5fa1ba590e71860f03c3a42'}]"
      ]
     },
     "execution_count": 3,
     "metadata": {},
     "output_type": "execute_result"
    }
   ],
   "source": [
    "bc.chain"
   ]
  },
  {
   "cell_type": "code",
   "execution_count": 4,
   "id": "712bc6bf",
   "metadata": {},
   "outputs": [
    {
     "data": {
      "text/plain": [
       "{'index': 3,\n",
       " 'timestamp': '2022-09-26 23:09:42.965873',\n",
       " 'data': 'Test2',\n",
       " 'proof': 5172,\n",
       " 'previous_hash': '51d7b3dc48416a26e556a11611404ceb93cc7174deabc5c3ae14e7d39f14d299'}"
      ]
     },
     "execution_count": 4,
     "metadata": {},
     "output_type": "execute_result"
    }
   ],
   "source": [
    "bc.mine_block(\"Test2\")"
   ]
  },
  {
   "cell_type": "code",
   "execution_count": 5,
   "id": "c3a687c4",
   "metadata": {},
   "outputs": [
    {
     "data": {
      "text/plain": [
       "{'index': 1,\n",
       " 'timestamp': '2022-09-26 23:09:42.807574',\n",
       " 'data': 'genesis block',\n",
       " 'proof': 1,\n",
       " 'previous_hash': '0'}"
      ]
     },
     "execution_count": 5,
     "metadata": {},
     "output_type": "execute_result"
    }
   ],
   "source": [
    "bc.chain[0]"
   ]
  },
  {
   "cell_type": "code",
   "execution_count": 6,
   "id": "125b85ab",
   "metadata": {},
   "outputs": [
    {
     "data": {
      "text/plain": [
       "True"
      ]
     },
     "execution_count": 6,
     "metadata": {},
     "output_type": "execute_result"
    }
   ],
   "source": [
    "bc.is_chain_valid()"
   ]
  },
  {
   "cell_type": "code",
   "execution_count": 11,
   "id": "ded90431",
   "metadata": {},
   "outputs": [],
   "source": [
    "bc.chain[1][\"data\"] = \"dsfdfdf\""
   ]
  },
  {
   "cell_type": "code",
   "execution_count": 12,
   "id": "02c07b2b",
   "metadata": {},
   "outputs": [
    {
     "data": {
      "text/plain": [
       "'dsfdfdf'"
      ]
     },
     "execution_count": 12,
     "metadata": {},
     "output_type": "execute_result"
    }
   ],
   "source": [
    "bc.chain[1][\"data\"]"
   ]
  },
  {
   "cell_type": "code",
   "execution_count": 13,
   "id": "1ea69d86",
   "metadata": {},
   "outputs": [
    {
     "data": {
      "text/plain": [
       "False"
      ]
     },
     "execution_count": 13,
     "metadata": {},
     "output_type": "execute_result"
    }
   ],
   "source": [
    "bc.is_chain_valid()"
   ]
  },
  {
   "cell_type": "code",
   "execution_count": 20,
   "id": "0dc631ed",
   "metadata": {},
   "outputs": [
    {
     "data": {
      "text/plain": [
       "{'index': 3,\n",
       " 'timestamp': '2022-09-26 23:09:42.965873',\n",
       " 'data': 'Test2',\n",
       " 'proof': 5172,\n",
       " 'previous_hash': '51d7b3dc48416a26e556a11611404ceb93cc7174deabc5c3ae14e7d39f14d299'}"
      ]
     },
     "execution_count": 20,
     "metadata": {},
     "output_type": "execute_result"
    }
   ],
   "source": [
    "bc.chain[len(bc.chain)-1]"
   ]
  },
  {
   "cell_type": "code",
   "execution_count": null,
   "id": "da87e358",
   "metadata": {},
   "outputs": [],
   "source": []
  }
 ],
 "metadata": {
  "kernelspec": {
   "display_name": "Python 3 (ipykernel)",
   "language": "python",
   "name": "python3"
  },
  "language_info": {
   "codemirror_mode": {
    "name": "ipython",
    "version": 3
   },
   "file_extension": ".py",
   "mimetype": "text/x-python",
   "name": "python",
   "nbconvert_exporter": "python",
   "pygments_lexer": "ipython3",
   "version": "3.10.2"
  }
 },
 "nbformat": 4,
 "nbformat_minor": 5
}

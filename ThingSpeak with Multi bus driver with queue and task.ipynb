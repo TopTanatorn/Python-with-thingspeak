{
 "cells": [
  {
   "cell_type": "code",
   "execution_count": 1,
   "id": "faaf117a",
   "metadata": {},
   "outputs": [],
   "source": [
    "import requests\n",
    "import time\n",
    "import json\n",
    "import numpy as np\n",
    "import blockchain\n",
    "import BusClass\n",
    "import queue\n",
    "import schedule as sc"
   ]
  },
  {
   "cell_type": "code",
   "execution_count": 2,
   "id": "e9ecfac2",
   "metadata": {},
   "outputs": [],
   "source": [
    "q = queue.Queue()\n",
    "url = \"https://api.thingspeak.com/channels/1704499/feeds.json?api_key=xxxx&results=2\"\n",
    "Rkey = \"xxxx\"\n",
    "latStation = [7.865661,7.881308,7.893300,7.887864,7.890755,7.882510,7.885414] # lat of stantion point\n",
    "lonStation = [98.397750,98.364982,98.368747,98.371470,98.390563,98.404646,98.430988] # lon of stantion point\n",
    "bc = blockchain.Blockchain()# create first blockchain\n",
    "distanceFormGoal = 0\n",
    "speed = 0\n",
    "enitalB1 = 0\n",
    "enitalB2 = 0\n",
    "estimateTimeToBusStop = 0"
   ]
  },
  {
   "cell_type": "code",
   "execution_count": 3,
   "id": "e3ee16a5",
   "metadata": {},
   "outputs": [],
   "source": [
    "def getBusStopPoint( stID ) :\n",
    "\n",
    "    stationId = stID\n",
    "    point = []\n",
    "\n",
    "    if stationId == \"1.0\" :\n",
    "        point = [latStation[0],lonStation[0]]\n",
    "    \n",
    "    elif stationId == \"2.0\" :\n",
    "        point = [latStation[1],lonStation[1]]\n",
    "    \n",
    "    elif stationId == \"3.0\" :\n",
    "        point = [latStation[2],lonStation[2]]\n",
    "    \n",
    "    elif stationId == \"4.0\" :\n",
    "        point = [latStation[3],lonStation[3]]\n",
    "    \n",
    "    elif stationId == \"5.0\" :\n",
    "        point = [latStation[4],lonStation[4]]\n",
    "    \n",
    "    elif stationId == \"6.0\" :\n",
    "        point = [latStation[5],lonStation[5]]\n",
    "    \n",
    "    elif stationId == \"7.0\" :\n",
    "        point = [latStation[6],lonStation[6]]\n",
    "        \n",
    "    else:\n",
    "        point = [\"X\",\"X\"]\n",
    "        \n",
    "    return point"
   ]
  },
  {
   "cell_type": "code",
   "execution_count": 4,
   "id": "4beac6c8",
   "metadata": {},
   "outputs": [],
   "source": [
    "def addData(data):\n",
    "    \n",
    "    baseUrlWr = \"https://api.thingspeak.com/update?api_key=\"\n",
    "    urlWr = baseUrlWr + Rkey\n",
    "    dataAdd = \"\"\n",
    "    for i in range(len(data)):\n",
    "        dataAdd = dataAdd + \"&field\"+ str(i+1) +\"=\" + str(data[i])\n",
    "        \n",
    "    urlWr = baseUrlWr + Rkey + dataAdd\n",
    "\n",
    "    requests.get(urlWr)\n",
    "    print(\"!!! Data Already Add to ThingSpeak Server\")\n",
    "    "
   ]
  },
  {
   "cell_type": "code",
   "execution_count": 5,
   "id": "68437e9d",
   "metadata": {},
   "outputs": [],
   "source": [
    "def readURL():\n",
    "    resp = requests.get(url)\n",
    "    data_disc = json.loads(resp.text)\n",
    "    if((data_disc[\"feeds\"][0][\"field1\"] != data_disc[\"feeds\"][1][\"field1\"])|\n",
    "       (data_disc[\"feeds\"][0][\"field2\"] != data_disc[\"feeds\"][1][\"field2\"])|\n",
    "       (data_disc[\"feeds\"][0][\"field3\"] != data_disc[\"feeds\"][1][\"field3\"])|\n",
    "       (data_disc[\"feeds\"][0][\"field4\"] != data_disc[\"feeds\"][1][\"field4\"])|\n",
    "       (data_disc[\"feeds\"][0][\"field5\"] != data_disc[\"feeds\"][1][\"field5\"])   \n",
    "      ):\n",
    "        resp = requests.get(url)\n",
    "        data_disc = json.loads(resp.text)\n",
    "        q.put(data_disc)\n",
    "        print(\"Total queue:\" + str(q.qsize()))\n",
    "        data_disc_pre = data_disc\n",
    "    else:\n",
    "        print(\"!Data are same dont add queu to the blockchain\")"
   ]
  },
  {
   "cell_type": "code",
   "execution_count": 6,
   "id": "74db1158",
   "metadata": {},
   "outputs": [
    {
     "data": {
      "text/plain": [
       "Every 25 seconds do readURL() (last run: [never], next run: 2022-11-21 06:22:16)"
      ]
     },
     "execution_count": 6,
     "metadata": {},
     "output_type": "execute_result"
    }
   ],
   "source": [
    "sc.every(25).seconds.do(readURL)"
   ]
  },
  {
   "cell_type": "code",
   "execution_count": 7,
   "id": "7f5d67f3",
   "metadata": {},
   "outputs": [
    {
     "name": "stdout",
     "output_type": "stream",
     "text": [
      "!Data are same dont add queu to the blockchain\n",
      "!Data are same dont add queu to the blockchain\n",
      "!Data are same dont add queu to the blockchain\n",
      "Total queue:1\n"
     ]
    },
    {
     "name": "stderr",
     "output_type": "stream",
     "text": [
      "C:\\Users\\ziver\\AppData\\Local\\Temp\\ipykernel_14284\\2428927353.py:54: RuntimeWarning: divide by zero encountered in double_scalars\n",
      "  estimateTimeToBusStop = (distanceFormGoal/speed) * 60\n"
     ]
    },
    {
     "name": "stdout",
     "output_type": "stream",
     "text": [
      "!!! Data Already Add to ThingSpeak Server\n",
      "{'index': 2, 'timestamp': '2022-11-21 06:23:57.798923', 'data': 'Bus ID :1.0,Station ID :1.0,Distance to bus stop :8.553770784014132,Speed :0.0,Estimate time to bus stop :inf', 'proof': 2179, 'previous_hash': '6429810a019aea1b71a98a88f9ffd5b63b51ccfb98a5e5c543ec31ecc7c6e2e6'}\n"
     ]
    },
    {
     "ename": "KeyboardInterrupt",
     "evalue": "",
     "output_type": "error",
     "traceback": [
      "\u001b[1;31m---------------------------------------------------------------------------\u001b[0m",
      "\u001b[1;31mKeyboardInterrupt\u001b[0m                         Traceback (most recent call last)",
      "Cell \u001b[1;32mIn [7], line 75\u001b[0m\n\u001b[0;32m     71\u001b[0m     addData(dataForAdd)\n\u001b[0;32m     73\u001b[0m     \u001b[38;5;28mprint\u001b[39m(bc\u001b[38;5;241m.\u001b[39mchain[\u001b[38;5;28mlen\u001b[39m(bc\u001b[38;5;241m.\u001b[39mchain)\u001b[38;5;241m-\u001b[39m\u001b[38;5;241m1\u001b[39m])\u001b[38;5;66;03m# print the current block\u001b[39;00m\n\u001b[1;32m---> 75\u001b[0m \u001b[43mtime\u001b[49m\u001b[38;5;241;43m.\u001b[39;49m\u001b[43msleep\u001b[49m\u001b[43m(\u001b[49m\u001b[38;5;241;43m15\u001b[39;49m\u001b[43m)\u001b[49m\n",
      "\u001b[1;31mKeyboardInterrupt\u001b[0m: "
     ]
    }
   ],
   "source": [
    "while (bc.is_chain_valid()):   \n",
    "    \n",
    "    sc.run_pending()\n",
    "    \n",
    "    if(q.qsize() >= 1):\n",
    "               \n",
    "        data_disc = q.get()\n",
    "        busID = data_disc[\"feeds\"][1][\"field5\"]\n",
    "        stationID = data_disc[\"feeds\"][1][\"field4\"]\n",
    "        busStopPoint = getBusStopPoint(stationID)\n",
    "\n",
    "        if(busStopPoint == [\"X\",\"X\"]):\n",
    "            print(\"Station ID is invalid (1 - 7)\")\n",
    "            break\n",
    "\n",
    "        if(not ((busID == '1.0')|(busID == '2.0'))):\n",
    "            print(\"Bus ID is invalid (1 - 2)\")\n",
    "            break\n",
    "\n",
    "        if((busID == '1.0') & (enitalB1 == 0)):\n",
    "\n",
    "            busId1 = BusClass.Bus(float(data_disc[\"feeds\"][1][\"field1\"]),float(data_disc[\"feeds\"][1][\"field2\"])) \n",
    "            distanceFormGoal = busId1.distanceFormGoal(busStopPoint[0],busStopPoint[1])\n",
    "            speed = busId1.readSpeed()\n",
    "            enitalB1 = 1;\n",
    "\n",
    "        if((busID == '2.0') & (enitalB2 == 0)):\n",
    "\n",
    "            busId2 = BusClass.Bus(float(data_disc[\"feeds\"][1][\"field1\"]),float(data_disc[\"feeds\"][1][\"field2\"])) \n",
    "            distanceFormGoal = busId2.distanceFormGoal(busStopPoint[0],busStopPoint[1])\n",
    "            speed = busId2.readSpeed()\n",
    "            enitalB2 = 1;\n",
    "\n",
    "        if((busID == '1.0') & (enitalB1 > 1)):\n",
    "\n",
    "            busId1.setBusLocation(float(data_disc[\"feeds\"][1][\"field1\"]),float(data_disc[\"feeds\"][1][\"field2\"]))\n",
    "            distanceFormGoal = busId1.distanceFormGoal(busStopPoint[0],busStopPoint[1])\n",
    "            speed = busId1.readSpeed()\n",
    "\n",
    "        if((busID == '2.0') & (enitalB2 > 1)):\n",
    "\n",
    "            busId2.setBusLocation(float(data_disc[\"feeds\"][1][\"field1\"]),float(data_disc[\"feeds\"][1][\"field2\"]))\n",
    "            distanceFormGoal = busId2.distanceFormGoal(busStopPoint[0],busStopPoint[1])\n",
    "            speed = busId2.readSpeed()\n",
    "\n",
    "        if((busID == '1.0') & (enitalB1 == 1)):\n",
    "\n",
    "            enitalB1 = 2\n",
    "\n",
    "        if((busID == '2.0') & (enitalB2 == 1)):\n",
    "\n",
    "            enitalB2 = 2\n",
    "            \n",
    "        estimateTimeToBusStop = (distanceFormGoal/speed) * 60\n",
    "\n",
    "        bc.mine_block(\"Bus ID :\" + str(busID) + \n",
    "                      \",Station ID :\" + str(stationID) + \n",
    "                      \",Distance to bus stop :\" + str(distanceFormGoal) +\n",
    "                      \",Speed :\" + str(speed) + \n",
    "                      \",Estimate time to bus stop :\"+ str(estimateTimeToBusStop)\n",
    "                     )\n",
    "        dataForAdd = [bc.chain[len(bc.chain)-1][\"index\"],\n",
    "                     bc.is_chain_valid(),\n",
    "                     busID,\n",
    "                     stationID,\n",
    "                     distanceFormGoal,\n",
    "                     speed,\n",
    "                     estimateTimeToBusStop,\n",
    "                     bc.chain[len(bc.chain) - 1][\"previous_hash\"]]\n",
    "\n",
    "        addData(dataForAdd)\n",
    "\n",
    "        print(bc.chain[len(bc.chain)-1])# print the current block\n",
    "\n",
    "    time.sleep(15)"
   ]
  }
 ],
 "metadata": {
  "kernelspec": {
   "display_name": "Python 3 (ipykernel)",
   "language": "python",
   "name": "python3"
  },
  "language_info": {
   "codemirror_mode": {
    "name": "ipython",
    "version": 3
   },
   "file_extension": ".py",
   "mimetype": "text/x-python",
   "name": "python",
   "nbconvert_exporter": "python",
   "pygments_lexer": "ipython3",
   "version": "3.10.2"
  }
 },
 "nbformat": 4,
 "nbformat_minor": 5
}

{
 "cells": [
  {
   "cell_type": "code",
   "execution_count": 1,
   "id": "9f36943b",
   "metadata": {},
   "outputs": [],
   "source": [
    "import requests\n",
    "import time\n",
    "import json\n",
    "import numpy as np\n",
    "import blockchain"
   ]
  },
  {
   "cell_type": "code",
   "execution_count": 2,
   "id": "90aa57d4",
   "metadata": {},
   "outputs": [],
   "source": [
    "url = \"https://api.thingspeak.com/channels/1704499/feeds.json?api_key=Z70IVJ1X27AVPQ6C&results=2\"\n",
    "Rkey = \"MC9FFB16PZV2BSWR\"\n",
    "R = 6373.0 # world radius\n",
    "latStation = [7.865661,7.881308,7.893300,7.887864,7.890755,7.882510,7.885414] # lat of stantion point\n",
    "lonStation = [98.397750,98.364982,98.368747,98.371470,98.390563,98.404646,98.430988] # lon of stantion point"
   ]
  },
  {
   "cell_type": "code",
   "execution_count": 3,
   "id": "73ed3caa",
   "metadata": {},
   "outputs": [],
   "source": [
    "resp = requests.get(url)\n",
    "data_disc = json.loads(resp.text)"
   ]
  },
  {
   "cell_type": "code",
   "execution_count": 4,
   "id": "eee8734c",
   "metadata": {},
   "outputs": [
    {
     "data": {
      "text/plain": [
       "'1.0'"
      ]
     },
     "execution_count": 4,
     "metadata": {},
     "output_type": "execute_result"
    }
   ],
   "source": [
    "data_disc[\"feeds\"][1][\"field5\"]"
   ]
  },
  {
   "cell_type": "code",
   "execution_count": 5,
   "id": "1891e6d6",
   "metadata": {},
   "outputs": [],
   "source": [
    "import numpy as np\n",
    "\n",
    "class Bus:\n",
    "    \n",
    "    \n",
    "    def __init__(self, lat, lon):\n",
    "        \n",
    "        self.lat = lat\n",
    "        self.lon = lon\n",
    "        self.previousLat = lat\n",
    "        self.previousLon = lon\n",
    "        \n",
    "    def setBusLocation(self, newLat, newLon):\n",
    "        \n",
    "        self.previousLat = self.lat\n",
    "        self.previousLon = self.lon\n",
    "        self.lat = newLat\n",
    "        self.lon = newLon\n",
    "        \n",
    "    def getBusLocation(self):\n",
    "        \n",
    "        return self.lat, self.lon, self.previousLat, self.previousLon\n",
    "        \n",
    "    def distanceFormGoal(self, lat, lon):\n",
    "        \n",
    "        lat1 = np.radians(self.lat)\n",
    "        lon1 = np.radians(self.lon)\n",
    "\n",
    "        lat2 = np.radians(lat)\n",
    "        lon2 = np.radians(lon)\n",
    "        #find difference between point 1 and point 2\n",
    "        dlon = lon2 - lon1\n",
    "        dlat = lat2 - lat1\n",
    "\n",
    "        a = np.sin(dlat / 2)**2 + np.cos(lat1) * np.cos(lat2) * np.sin(dlon / 2)**2\n",
    "        c = 2 * np.arctan2(np.sqrt(a), np.sqrt(1 - a))\n",
    "\n",
    "        distance = R * c\n",
    "        \n",
    "        return distance\n",
    "    \n",
    "    def readSpeed(self):\n",
    "        \n",
    "        lat1 = np.radians(self.lat) \n",
    "        lon1 = np.radians(self.lon)\n",
    "\n",
    "        lat2 = np.radians(self.previousLat)\n",
    "        lon2 = np.radians(self.previousLon)\n",
    "        #find difference between point 1 and point 2\n",
    "        dlon = lon2 - lon1\n",
    "        dlat = lat2 - lat1\n",
    "\n",
    "        a = np.sin(dlat / 2)**2 + np.cos(lat1) * np.cos(lat2) * np.sin(dlon / 2)**2\n",
    "        c = 2 * np.arctan2(np.sqrt(a), np.sqrt(1 - a))\n",
    "\n",
    "        distance = R * c\n",
    "        speed = (distance*3600)/60 #km/hr send interval 60 sec\n",
    "        \n",
    "        return speed"
   ]
  },
  {
   "cell_type": "code",
   "execution_count": 6,
   "id": "ed037011",
   "metadata": {},
   "outputs": [],
   "source": [
    "bus1 = Bus(5,5)"
   ]
  },
  {
   "cell_type": "code",
   "execution_count": 7,
   "id": "7ddd2c6a",
   "metadata": {},
   "outputs": [
    {
     "data": {
      "text/plain": [
       "0.0"
      ]
     },
     "execution_count": 7,
     "metadata": {},
     "output_type": "execute_result"
    }
   ],
   "source": [
    "bus1.readSpeed()"
   ]
  },
  {
   "cell_type": "code",
   "execution_count": 8,
   "id": "a25c45e4",
   "metadata": {},
   "outputs": [
    {
     "data": {
      "text/plain": [
       "(5, 5, 5, 5)"
      ]
     },
     "execution_count": 8,
     "metadata": {},
     "output_type": "execute_result"
    }
   ],
   "source": [
    "bus1.getBusLocation()"
   ]
  },
  {
   "cell_type": "code",
   "execution_count": 9,
   "id": "c8847459",
   "metadata": {},
   "outputs": [],
   "source": [
    "bus1.setBusLocation(5,6)"
   ]
  },
  {
   "cell_type": "code",
   "execution_count": 10,
   "id": "d11cafcc",
   "metadata": {},
   "outputs": [
    {
     "data": {
      "text/plain": [
       "6648.393566966454"
      ]
     },
     "execution_count": 10,
     "metadata": {},
     "output_type": "execute_result"
    }
   ],
   "source": [
    "bus1.readSpeed()"
   ]
  },
  {
   "cell_type": "code",
   "execution_count": 11,
   "id": "781c796d",
   "metadata": {},
   "outputs": [
    {
     "data": {
      "text/plain": [
       "(5, 6, 5, 5)"
      ]
     },
     "execution_count": 11,
     "metadata": {},
     "output_type": "execute_result"
    }
   ],
   "source": [
    "bus1.getBusLocation()"
   ]
  },
  {
   "cell_type": "code",
   "execution_count": 12,
   "id": "e5ec8edf",
   "metadata": {},
   "outputs": [],
   "source": [
    "def getBusStopPoint() :\n",
    "\n",
    "    resp = requests.get(url)\n",
    "    data_disc = json.loads(resp.text)\n",
    "\n",
    "    stationId = data_disc[\"feeds\"][1][\"field4\"]\n",
    "    point = []\n",
    "\n",
    "    if stationId == \"1.0\" :\n",
    "        point = [latStation[0],lonStation[0]]\n",
    "    \n",
    "    elif stationId == \"2.0\" :\n",
    "        point = [latStation[1],lonStation[1]]\n",
    "    \n",
    "    elif stationId == \"3.0\" :\n",
    "        point = [latStation[2],lonStation[2]]\n",
    "    \n",
    "    elif stationId == \"4.0\" :\n",
    "        point = [latStation[3],lonStation[3]]\n",
    "    \n",
    "    elif stationId == \"5.0\" :\n",
    "        point = [latStation[4],lonStation[4]]\n",
    "    \n",
    "    elif stationId == \"6.0\" :\n",
    "        point = [latStation[5],lonStation[5]]\n",
    "    \n",
    "    elif stationId == \"7.0\" :\n",
    "        point = [latStation[6],lonStation[6]]\n",
    "      \n",
    "    return point\n"
   ]
  },
  {
   "cell_type": "code",
   "execution_count": 13,
   "id": "5f38841f",
   "metadata": {},
   "outputs": [],
   "source": [
    "enitalB1 = 0\n",
    "enitalB2 = 0"
   ]
  },
  {
   "cell_type": "code",
   "execution_count": 14,
   "id": "162e9ed3",
   "metadata": {},
   "outputs": [
    {
     "name": "stdout",
     "output_type": "stream",
     "text": [
      "X1\n"
     ]
    }
   ],
   "source": [
    "resp = requests.get(url)\n",
    "data_disc = json.loads(resp.text)\n",
    "busID = data_disc[\"feeds\"][1][\"field5\"]\n",
    "stationID = data_disc[\"feeds\"][1][\"field4\"]\n",
    "if((busID == '1.0') & (enitalB1 == 0)):\n",
    "    \n",
    "    busId1 = Bus(float(data_disc[\"feeds\"][1][\"field1\"]),float(data_disc[\"feeds\"][1][\"field2\"])) \n",
    "    enitalB1 = 1;\n",
    "    print('X1')\n",
    "    \n",
    "elif((busID == '2.0') & (enitalB2 == 0)):\n",
    "    \n",
    "    busId2 = Bus(float(data_disc[\"feeds\"][1][\"field1\"]),float(data_disc[\"feeds\"][1][\"field2\"])) \n",
    "    enitalB2 = 1;\n",
    "    print('X2')"
   ]
  },
  {
   "cell_type": "code",
   "execution_count": 15,
   "id": "15e9437a",
   "metadata": {},
   "outputs": [
    {
     "data": {
      "text/plain": [
       "1"
      ]
     },
     "execution_count": 15,
     "metadata": {},
     "output_type": "execute_result"
    }
   ],
   "source": [
    "enitalB1"
   ]
  },
  {
   "cell_type": "code",
   "execution_count": 16,
   "id": "fdab41e9",
   "metadata": {},
   "outputs": [],
   "source": [
    "if((busID == '1.0') & (enitalB1 > 1)):\n",
    "    \n",
    "    busId1.setBusLocation(float(data_disc[\"feeds\"][1][\"field1\"]),float(data_disc[\"feeds\"][1][\"field2\"]))\n",
    "    print(\"X\")\n",
    "    \n",
    "elif((busID == '2.0') & (enitalB2 > 1)):\n",
    "    \n",
    "    busId2.setBusLocation(float(data_disc[\"feeds\"][1][\"field1\"]),float(data_disc[\"feeds\"][1][\"field2\"]))\n",
    "    print(\"X\")\n",
    "    \n",
    "enitalB1 = 2\n",
    "enitalB2 = 2"
   ]
  },
  {
   "cell_type": "code",
   "execution_count": 17,
   "id": "79107a59",
   "metadata": {},
   "outputs": [
    {
     "data": {
      "text/plain": [
       "0.0"
      ]
     },
     "execution_count": 17,
     "metadata": {},
     "output_type": "execute_result"
    }
   ],
   "source": [
    "busId1.readSpeed()"
   ]
  },
  {
   "cell_type": "code",
   "execution_count": 18,
   "id": "c10288ae",
   "metadata": {},
   "outputs": [
    {
     "data": {
      "text/plain": [
       "(7.9425498, 98.397335, 7.9425498, 98.397335)"
      ]
     },
     "execution_count": 18,
     "metadata": {},
     "output_type": "execute_result"
    }
   ],
   "source": [
    "busId1.getBusLocation()"
   ]
  },
  {
   "cell_type": "code",
   "execution_count": 19,
   "id": "7b718072",
   "metadata": {},
   "outputs": [],
   "source": [
    "point = getBusStopPoint()"
   ]
  },
  {
   "cell_type": "code",
   "execution_count": 21,
   "id": "74059f30",
   "metadata": {},
   "outputs": [
    {
     "data": {
      "text/plain": [
       "8.55245061772584"
      ]
     },
     "execution_count": 21,
     "metadata": {},
     "output_type": "execute_result"
    }
   ],
   "source": [
    "busId1.distanceFormGoal(point[0],point[1])"
   ]
  },
  {
   "cell_type": "code",
   "execution_count": null,
   "id": "ce4bc0d8",
   "metadata": {},
   "outputs": [],
   "source": []
  }
 ],
 "metadata": {
  "kernelspec": {
   "display_name": "Python 3 (ipykernel)",
   "language": "python",
   "name": "python3"
  },
  "language_info": {
   "codemirror_mode": {
    "name": "ipython",
    "version": 3
   },
   "file_extension": ".py",
   "mimetype": "text/x-python",
   "name": "python",
   "nbconvert_exporter": "python",
   "pygments_lexer": "ipython3",
   "version": "3.10.2"
  }
 },
 "nbformat": 4,
 "nbformat_minor": 5
}

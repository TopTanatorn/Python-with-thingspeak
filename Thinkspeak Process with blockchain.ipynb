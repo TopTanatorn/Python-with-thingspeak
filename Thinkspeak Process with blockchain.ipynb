{
 "cells": [
  {
   "cell_type": "code",
   "execution_count": 1,
   "id": "7b53be2a",
   "metadata": {
    "scrolled": true
   },
   "outputs": [],
   "source": [
    "import requests\n",
    "import time\n",
    "import json\n",
    "import numpy as np\n",
    "import blockchain"
   ]
  },
  {
   "cell_type": "code",
   "execution_count": 2,
   "id": "66482acc",
   "metadata": {},
   "outputs": [],
   "source": [
    "url = \"https://api.thingspeak.com/channels/1704499/feeds.json?api_key=Z70IVJ1X27AVPQ6C&results=2\"\n",
    "Rkey = \"MC9FFB16PZV2BSWR\"\n",
    "R = 6373.0 # world radius\n",
    "latStation = [7.865661,7.881308,7.893300,7.887864,7.890755,7.882510,7.885414] # lat of stantion point\n",
    "lonStation = [98.397750,98.364982,98.368747,98.371470,98.390563,98.404646,98.430988] # lon of stantion point"
   ]
  },
  {
   "cell_type": "code",
   "execution_count": 3,
   "id": "4c8c01a6",
   "metadata": {},
   "outputs": [],
   "source": [
    "def readSpeed(time) : #calculate distance from lat and lot then find the speed by v = s/t\n",
    "    \n",
    "\n",
    "    resp = requests.get(url) #request url\n",
    "    data_disc = json.loads(resp.text) #converst to json format\n",
    "    #convest data to radians value for process in the next step\n",
    "    lat1 = np.radians(float(data_disc[\"feeds\"][0][\"field1\"])) \n",
    "    lon1 = np.radians(float(data_disc[\"feeds\"][0][\"field2\"]))\n",
    "    \n",
    "    lat2 = np.radians(float(data_disc[\"feeds\"][1][\"field1\"]))\n",
    "    lon2 = np.radians(float(data_disc[\"feeds\"][1][\"field2\"]))\n",
    "    #find difference between point 1 and point 2\n",
    "    dlon = lon2 - lon1\n",
    "    dlat = lat2 - lat1\n",
    "\n",
    "    a = np.sin(dlat / 2)**2 + np.cos(lat1) * np.cos(lat2) * np.sin(dlon / 2)**2\n",
    "    c = 2 * np.arctan2(np.sqrt(a), np.sqrt(1 - a))\n",
    "    \n",
    "    distance = R * c\n",
    "    speed = (distance*3600)/time; #km/hr\n",
    "\n",
    "    return speed\n"
   ]
  },
  {
   "cell_type": "code",
   "execution_count": 4,
   "id": "3f64bee0",
   "metadata": {},
   "outputs": [],
   "source": [
    "def distanceDriver_station(latSt,lonSt):#calculate distance from location of driver and station\n",
    "    \n",
    "    resp = requests.get(url)\n",
    "    data_disc = json.loads(resp.text)\n",
    "    \n",
    "    lat1 = np.radians(float(data_disc[\"feeds\"][1][\"field1\"]))\n",
    "    lon1 = np.radians(float(data_disc[\"feeds\"][1][\"field2\"]))\n",
    "    \n",
    "    lat2 = np.radians(latSt)\n",
    "    lon2 = np.radians(lonSt)\n",
    "    \n",
    "    dlon = lon2 - lon1\n",
    "    dlat = lat2 - lat1\n",
    "\n",
    "    a = np.sin(dlat / 2)**2 + np.cos(lat1) * np.cos(lat2) * np.sin(dlon / 2)**2\n",
    "    c = 2 * np.arctan2(np.sqrt(a), np.sqrt(1 - a))\n",
    "\n",
    "    distance = R * c\n",
    "    \n",
    "    return distance"
   ]
  },
  {
   "cell_type": "code",
   "execution_count": 5,
   "id": "991f0a8b",
   "metadata": {},
   "outputs": [],
   "source": [
    "def addData(dt1,dt2,dt3,dt4,dt5,dt6,dt7,dt8): # add the data into thing speak\n",
    "    urlWrite = \"https://api.thingspeak.com/update?api_key=\"+ Rkey + \"&field1=\" + str(dt1) + \"&field2=\" +  str(dt2) + \"&field3=\" +  str(dt3) + \"&field4=\" +  str(dt4) + \"&field5=\" +  str(dt5) + \"&field6=\" +  str(dt6) + \"&field7=\" +  str(dt7) + \"&field8=\" +  str(dt8)\n",
    "    requests.get(urlWrite)"
   ]
  },
  {
   "cell_type": "code",
   "execution_count": 6,
   "id": "33a634f7",
   "metadata": {},
   "outputs": [],
   "source": [
    "def getDis() :\n",
    "\n",
    "    resp = requests.get(url)\n",
    "    data_disc = json.loads(resp.text)\n",
    "\n",
    "    stationId = data_disc[\"feeds\"][1][\"field4\"]\n",
    "\n",
    "    if stationId == \"1.0\" :\n",
    "        dis = distanceDriver_station(latStation[0],lonStation[0])  \n",
    "    \n",
    "    elif stationId == \"2.0\" :\n",
    "        dis = distanceDriver_station(latStation[1],lonStation[1])\n",
    "    \n",
    "    elif stationId == \"3.0\" :\n",
    "        dis = distanceDriver_station(latStation[2],lonStation[2])\n",
    "    \n",
    "    elif stationId == \"4.0\" :\n",
    "        dis = distanceDriver_station(latStation[3],lonStation[3])\n",
    "    \n",
    "    elif stationId == \"5.0\" :\n",
    "        dis = distanceDriver_station(latStation[4],lonStation[4])\n",
    "    \n",
    "    elif stationId == \"6.0\" :\n",
    "        dis = distanceDriver_station(latStation[5],lonStation[5])\n",
    "    \n",
    "    elif stationId == \"7.0\" :\n",
    "        dis = distanceDriver_station(latStation[6],lonStation[6])\n",
    "      \n",
    "    return dis\n"
   ]
  },
  {
   "cell_type": "code",
   "execution_count": 7,
   "id": "10ff0bc3",
   "metadata": {},
   "outputs": [],
   "source": [
    "bc = blockchain.Blockchain()# create first blockchain"
   ]
  },
  {
   "cell_type": "code",
   "execution_count": 8,
   "id": "82995431",
   "metadata": {
    "scrolled": true
   },
   "outputs": [
    {
     "name": "stderr",
     "output_type": "stream",
     "text": [
      "C:\\Users\\ziver\\AppData\\Local\\Temp\\ipykernel_12044\\2068764997.py:9: RuntimeWarning: divide by zero encountered in double_scalars\n",
      "  estimate = (distance/speed)* 60 # for min\n"
     ]
    },
    {
     "name": "stdout",
     "output_type": "stream",
     "text": [
      "{'index': 2, 'timestamp': '2022-10-09 21:15:03.653436', 'data': 'Station :3.0,Distance :6.317749009244943,Speed :0.0,Estimate time :inf', 'proof': 2731, 'previous_hash': '6acbacd64ea47c316a3648b47c5b187c4ccc60c56c70be6451813afe964dce62'}\n",
      "{'index': 3, 'timestamp': '2022-10-09 21:15:39.565563', 'data': 'Station :3.0,Distance :6.317749009244943,Speed :0.0,Estimate time :inf', 'proof': 1351, 'previous_hash': 'bb37f95e8be82bb7a9bef425de03bbe998e5dd4a0a53c6747396de1e9b4fa986'}\n",
      "{'index': 4, 'timestamp': '2022-10-09 21:16:15.640121', 'data': 'Station :3.0,Distance :6.317749009244943,Speed :0.0,Estimate time :inf', 'proof': 3969, 'previous_hash': '8f6d82ee306c3b9157326c450b4858e0833d139455c40d21b168d1339cc6a669'}\n",
      "{'index': 5, 'timestamp': '2022-10-09 21:16:51.545292', 'data': 'Station :1.0,Distance :8.552194204467092,Speed :0.11848815424087317,Estimate time :4330.657824451263', 'proof': 5913, 'previous_hash': '695da8a2b30e22f11c2f687aa439bed9543707b485efd5bc95efd2dcf5a4abff'}\n",
      "{'index': 6, 'timestamp': '2022-10-09 21:17:27.357056', 'data': 'Station :1.0,Distance :8.5528388001077,Speed :0.0,Estimate time :inf', 'proof': 2376, 'previous_hash': '5633992bcca6cb81cfa991ce3a85ff22e8be902b9c707888a71644e6ea7211cc'}\n",
      "{'index': 7, 'timestamp': '2022-10-09 21:18:03.301436', 'data': 'Station :2.0,Distance :7.688541248973013,Speed :0.0,Estimate time :inf', 'proof': 2739, 'previous_hash': '9fa10528b4e1a21542e35afb039e87b11b82798582612f484f8ca6ba91b0fb9c'}\n",
      "{'index': 8, 'timestamp': '2022-10-09 21:18:39.197140', 'data': 'Station :3.0,Distance :6.31934166631811,Speed :0.0,Estimate time :inf', 'proof': 505, 'previous_hash': '79688254f6679a9b14ac6505f849e804ae29a7291f69baacbb8471c1727121bd'}\n",
      "{'index': 9, 'timestamp': '2022-10-09 21:19:15.077351', 'data': 'Station :3.0,Distance :6.31934166631811,Speed :0.0,Estimate time :inf', 'proof': 7464, 'previous_hash': 'c1013dac2ebdeee6f24b3fe0129840a87126b77ede01bdcdb8906ac61bbc8e7b'}\n",
      "{'index': 10, 'timestamp': '2022-10-09 21:19:50.990848', 'data': 'Station :4.0,Distance :6.717515510580884,Speed :0.0,Estimate time :inf', 'proof': 6609, 'previous_hash': '61abc84820dd329ad7c1b83ac9332d90a6fc40654d5cd67ac3c25bdffb3b9ced'}\n",
      "{'index': 11, 'timestamp': '2022-10-09 21:20:26.961676', 'data': 'Station :4.0,Distance :6.717515510580884,Speed :0.0,Estimate time :inf', 'proof': 4486, 'previous_hash': 'bcf8150026c1961de050eaa672c1e20eb88395dfb76459702ae9a7f1c37f2ff7'}\n",
      "{'index': 12, 'timestamp': '2022-10-09 21:21:02.974624', 'data': 'Station :5.0,Distance :5.8096473118133485,Speed :0.0,Estimate time :inf', 'proof': 11, 'previous_hash': 'b8e30830b996651fde7a73ce11ff59f3c18863605a75b7719a4e6323571530e6'}\n",
      "{'index': 13, 'timestamp': '2022-10-09 21:21:38.982780', 'data': 'Station :6.0,Distance :6.7269761830083805,Speed :0.0,Estimate time :inf', 'proof': 2648, 'previous_hash': 'f4bd793f7412a5b6e410fdef7aef48a44df7e24eb962514eb55b8f4ad5443224'}\n",
      "{'index': 14, 'timestamp': '2022-10-09 21:22:14.811634', 'data': 'Station :6.0,Distance :6.7269761830083805,Speed :0.0,Estimate time :inf', 'proof': 14957, 'previous_hash': '464e9f7285d5527a94d8150690a136c47254bea6507fb58394b4f67890849064'}\n",
      "{'index': 15, 'timestamp': '2022-10-09 21:22:50.910934', 'data': 'Station :7.0,Distance :7.357858609423033,Speed :0.0,Estimate time :inf', 'proof': 9252, 'previous_hash': '5d8639d8c9217d2e367ceb81bc4c46c2dcad2a434c97bb8884eedc2323c802ea'}\n",
      "{'index': 16, 'timestamp': '2022-10-09 21:23:26.810320', 'data': 'Station :7.0,Distance :7.357858609423033,Speed :0.0,Estimate time :inf', 'proof': 3307, 'previous_hash': '4ff2978450d95154a2d2bbf2a977a2cbb85bd52b70e888c86c8f3dc514ce299b'}\n"
     ]
    },
    {
     "ename": "KeyboardInterrupt",
     "evalue": "",
     "output_type": "error",
     "traceback": [
      "\u001b[1;31m---------------------------------------------------------------------------\u001b[0m",
      "\u001b[1;31mKeyboardInterrupt\u001b[0m                         Traceback (most recent call last)",
      "Cell \u001b[1;32mIn [8], line 15\u001b[0m\n\u001b[0;32m     13\u001b[0m addData(stationId,distance,speed,estimate,bc\u001b[38;5;241m.\u001b[39mis_chain_valid(),bc\u001b[38;5;241m.\u001b[39mchain[\u001b[38;5;28mlen\u001b[39m(bc\u001b[38;5;241m.\u001b[39mchain)\u001b[38;5;241m-\u001b[39m\u001b[38;5;241m1\u001b[39m][\u001b[38;5;124m\"\u001b[39m\u001b[38;5;124mindex\u001b[39m\u001b[38;5;124m\"\u001b[39m],bc\u001b[38;5;241m.\u001b[39mchain[\u001b[38;5;28mlen\u001b[39m(bc\u001b[38;5;241m.\u001b[39mchain)\u001b[38;5;241m-\u001b[39m\u001b[38;5;241m1\u001b[39m][\u001b[38;5;124m\"\u001b[39m\u001b[38;5;124mproof\u001b[39m\u001b[38;5;124m\"\u001b[39m],bc\u001b[38;5;241m.\u001b[39mchain[\u001b[38;5;28mlen\u001b[39m(bc\u001b[38;5;241m.\u001b[39mchain)\u001b[38;5;241m-\u001b[39m\u001b[38;5;241m1\u001b[39m][\u001b[38;5;124m\"\u001b[39m\u001b[38;5;124mprevious_hash\u001b[39m\u001b[38;5;124m\"\u001b[39m])\n\u001b[0;32m     14\u001b[0m \u001b[38;5;28mprint\u001b[39m(bc\u001b[38;5;241m.\u001b[39mchain[\u001b[38;5;28mlen\u001b[39m(bc\u001b[38;5;241m.\u001b[39mchain)\u001b[38;5;241m-\u001b[39m\u001b[38;5;241m1\u001b[39m])\u001b[38;5;66;03m# print the current block\u001b[39;00m\n\u001b[1;32m---> 15\u001b[0m \u001b[43mtime\u001b[49m\u001b[38;5;241;43m.\u001b[39;49m\u001b[43msleep\u001b[49m\u001b[43m(\u001b[49m\u001b[38;5;241;43m30\u001b[39;49m\u001b[43m)\u001b[49m\n",
      "\u001b[1;31mKeyboardInterrupt\u001b[0m: "
     ]
    }
   ],
   "source": [
    "while (bc.is_chain_valid()):# check validation of blockchain\n",
    "    resp = requests.get(url)\n",
    "    data_disc = json.loads(resp.text)\n",
    "\n",
    "    stationId = data_disc[\"feeds\"][1][\"field4\"]\n",
    "    \n",
    "    distance = getDis()\n",
    "    speed = readSpeed(30) # calculate the speed when t  = 30s because driver divec will be update every 30 s\n",
    "    estimate = (distance/speed)* 60 # for min\n",
    "    \n",
    "    bc.mine_block(\"Station :\" + str(stationId) + \",Distance :\"+ str(distance) + \",Speed :\" + str(speed) + \",Estimate time :\" + str(estimate))\n",
    "    #create the data by use mine_blockmethod\n",
    "    addData(stationId,distance,speed,estimate,bc.is_chain_valid(),bc.chain[len(bc.chain)-1][\"index\"],bc.chain[len(bc.chain)-1][\"proof\"],bc.chain[len(bc.chain)-1][\"previous_hash\"])\n",
    "    print(bc.chain[len(bc.chain)-1])# print the current block\n",
    "    time.sleep(30)"
   ]
  }
 ],
 "metadata": {
  "kernelspec": {
   "display_name": "Python 3 (ipykernel)",
   "language": "python",
   "name": "python3"
  },
  "language_info": {
   "codemirror_mode": {
    "name": "ipython",
    "version": 3
   },
   "file_extension": ".py",
   "mimetype": "text/x-python",
   "name": "python",
   "nbconvert_exporter": "python",
   "pygments_lexer": "ipython3",
   "version": "3.10.2"
  }
 },
 "nbformat": 4,
 "nbformat_minor": 5
}
